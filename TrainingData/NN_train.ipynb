{
 "cells": [
  {
   "cell_type": "code",
   "execution_count": 1,
   "metadata": {},
   "outputs": [
    {
     "name": "stderr",
     "output_type": "stream",
     "text": [
      "Using TensorFlow backend.\n"
     ]
    }
   ],
   "source": [
    "import pandas as pd\n",
    "\n",
    "import keras\n",
    "from keras.models import Sequential, load_model\n",
    "from keras.layers import Dense, Dropout, Activation, Flatten\n",
    "from keras.layers import Conv2D, MaxPooling2D\n",
    "\n",
    "from sklearn.model_selection import train_test_split\n",
    "\n",
    "import numpy as np"
   ]
  },
  {
   "cell_type": "code",
   "execution_count": 2,
   "metadata": {},
   "outputs": [],
   "source": [
    "data_feature = pd.read_csv(\"features_100000_Random_Random_1589134303.csv\", header = None)\n",
    "data_target = pd.read_csv(\"targets_100000_Random_Random_1589134303.csv\", header = None)\n",
    "\n",
    "# data_feature = pd.read_csv(\"features_100000_Random_Random_eachstep1589147854.csv\", header = None)\n",
    "# data_target = pd.read_csv(\"targets_100000_Random_Random_eachstep1589147854.csv\", header = None)\n",
    "\n",
    "# data_feature = pd.read_csv(\"features_10000_Random_Random_eachstep1589140617.csv\", header = None)\n",
    "# data_target = pd.read_csv(\"targets_10000_Random_Random_eachstep1589140617.csv\", header = None)"
   ]
  },
  {
   "cell_type": "code",
   "execution_count": 63,
   "metadata": {},
   "outputs": [
    {
     "data": {
      "text/plain": [
       "(100000, 42)"
      ]
     },
     "execution_count": 63,
     "metadata": {},
     "output_type": "execute_result"
    }
   ],
   "source": [
    "data_feature.shape"
   ]
  },
  {
   "cell_type": "code",
   "execution_count": 64,
   "metadata": {},
   "outputs": [
    {
     "data": {
      "text/plain": [
       "(100000, 1)"
      ]
     },
     "execution_count": 64,
     "metadata": {},
     "output_type": "execute_result"
    }
   ],
   "source": [
    "data_target.shape"
   ]
  },
  {
   "cell_type": "code",
   "execution_count": 65,
   "metadata": {},
   "outputs": [],
   "source": [
    "# model.add(Dropout(0.2))"
   ]
  },
  {
   "cell_type": "code",
   "execution_count": 66,
   "metadata": {},
   "outputs": [],
   "source": [
    "# model = Sequential()\n",
    "# model.add(Conv2D(64, (2, 2), input_shape=(6, 7, 1)))\n",
    "# model.add(Activation('relu'))\n",
    "\n",
    "# model.add(Flatten())\n",
    "# model.add(Dense(64))\n",
    "# model.add(Activation('relu'))\n",
    "\n",
    "# model.add(Dense(1))\n",
    "\n",
    "\n",
    "\n",
    "# # opt = keras.optimizers.RMSprop(learning_rate=0.0001)\n",
    "# # opt = keras.optimizers.SGD(lr=0.001, decay=1e-4)\n",
    "# # opt = keras.optimizers.Adadelta()\n",
    "# opt = keras.optimizers.Adagrad()\n",
    "# # opt = keras.optimizers.Adam()\n",
    "\n",
    "# model.compile(loss='mean_squared_error',\n",
    "#               optimizer=opt,\n",
    "#               metrics=['accuracy'])"
   ]
  },
  {
   "cell_type": "code",
   "execution_count": 67,
   "metadata": {},
   "outputs": [],
   "source": [
    "model = Sequential()\n",
    "model.add(Conv2D(256, (4, 4), input_shape=(6, 7, 1)))\n",
    "model.add(Activation('relu'))\n",
    "model.add(Conv2D(64, (2, 2), input_shape=(6, 7, 1)))\n",
    "model.add(Activation('relu'))\n",
    "\n",
    "model.add(Flatten())\n",
    "model.add(Dense(64))\n",
    "model.add(Dropout(0.2))\n",
    "model.add(Activation('relu'))\n",
    "model.add(Dense(32))\n",
    "model.add(Dropout(0.2))\n",
    "model.add(Activation('relu'))\n",
    "\n",
    "model.add(Dense(1))\n",
    "\n",
    "opt = keras.optimizers.Adam()\n",
    "\n",
    "model.compile(loss='mean_squared_error',\n",
    "              optimizer=opt,\n",
    "              metrics=['accuracy'])"
   ]
  },
  {
   "cell_type": "code",
   "execution_count": 68,
   "metadata": {
    "scrolled": true
   },
   "outputs": [
    {
     "name": "stdout",
     "output_type": "stream",
     "text": [
      "Train on 75000 samples, validate on 25000 samples\n",
      "Epoch 1/100\n",
      "75000/75000 [==============================] - 8s 108us/step - loss: 0.2457 - accuracy: 0.7776 - val_loss: 0.0427 - val_accuracy: 0.9680\n",
      "Epoch 2/100\n",
      "75000/75000 [==============================] - 8s 109us/step - loss: 0.0439 - accuracy: 0.9772 - val_loss: 0.0316 - val_accuracy: 0.9770\n",
      "Epoch 3/100\n",
      "75000/75000 [==============================] - 9s 120us/step - loss: 0.0304 - accuracy: 0.9881 - val_loss: 0.0123 - val_accuracy: 0.9908\n",
      "Epoch 4/100\n",
      "75000/75000 [==============================] - 10s 136us/step - loss: 0.0257 - accuracy: 0.9920 - val_loss: 0.0047 - val_accuracy: 0.9966\n",
      "Epoch 5/100\n",
      "75000/75000 [==============================] - 7s 87us/step - loss: 0.0232 - accuracy: 0.9942 - val_loss: 0.0115 - val_accuracy: 0.9925\n",
      "Epoch 6/100\n",
      "75000/75000 [==============================] - 8s 104us/step - loss: 0.0226 - accuracy: 0.9944 - val_loss: 0.0082 - val_accuracy: 0.9943\n",
      "Epoch 7/100\n",
      "75000/75000 [==============================] - 11s 147us/step - loss: 0.0209 - accuracy: 0.9959 - val_loss: 0.0071 - val_accuracy: 0.9952\n",
      "Epoch 8/100\n",
      "75000/75000 [==============================] - 12s 154us/step - loss: 0.0211 - accuracy: 0.9957 - val_loss: 0.0084 - val_accuracy: 0.9949\n",
      "Epoch 9/100\n",
      "75000/75000 [==============================] - 10s 134us/step - loss: 0.0204 - accuracy: 0.9964 - val_loss: 0.0021 - val_accuracy: 0.9982\n",
      "Epoch 10/100\n",
      "75000/75000 [==============================] - 10s 134us/step - loss: 0.0199 - accuracy: 0.9964 - val_loss: 0.0025 - val_accuracy: 0.9983\n",
      "Epoch 11/100\n",
      "75000/75000 [==============================] - 10s 136us/step - loss: 0.0196 - accuracy: 0.9967 - val_loss: 0.0026 - val_accuracy: 0.9982\n",
      "Epoch 12/100\n",
      "75000/75000 [==============================] - 13s 175us/step - loss: 0.0193 - accuracy: 0.9969 - val_loss: 0.0017 - val_accuracy: 0.9988\n",
      "Epoch 13/100\n",
      "75000/75000 [==============================] - 10s 136us/step - loss: 0.0191 - accuracy: 0.9972 - val_loss: 0.0025 - val_accuracy: 0.9983\n",
      "Epoch 14/100\n",
      "75000/75000 [==============================] - 10s 137us/step - loss: 0.0191 - accuracy: 0.9971 - val_loss: 0.0017 - val_accuracy: 0.9986\n",
      "Epoch 15/100\n",
      "75000/75000 [==============================] - 10s 132us/step - loss: 0.0199 - accuracy: 0.9962 - val_loss: 0.0071 - val_accuracy: 0.9958\n",
      "Epoch 16/100\n",
      "75000/75000 [==============================] - 9s 121us/step - loss: 0.0174 - accuracy: 0.9982 - val_loss: 0.0015 - val_accuracy: 0.9986\n",
      "Epoch 17/100\n",
      "75000/75000 [==============================] - 8s 113us/step - loss: 0.0188 - accuracy: 0.9972 - val_loss: 0.0031 - val_accuracy: 0.9982\n",
      "Epoch 18/100\n",
      "75000/75000 [==============================] - 10s 138us/step - loss: 0.0181 - accuracy: 0.9976 - val_loss: 0.0014 - val_accuracy: 0.9985\n",
      "Epoch 19/100\n",
      "75000/75000 [==============================] - 11s 148us/step - loss: 0.0188 - accuracy: 0.9970 - val_loss: 0.0018 - val_accuracy: 0.9984\n",
      "Epoch 20/100\n",
      "75000/75000 [==============================] - 12s 156us/step - loss: 0.0173 - accuracy: 0.9982 - val_loss: 0.0018 - val_accuracy: 0.9986\n",
      "Epoch 21/100\n",
      "75000/75000 [==============================] - 12s 165us/step - loss: 0.0179 - accuracy: 0.9976 - val_loss: 0.0025 - val_accuracy: 0.9981\n",
      "Epoch 22/100\n",
      "75000/75000 [==============================] - 11s 149us/step - loss: 0.0185 - accuracy: 0.9973 - val_loss: 0.0019 - val_accuracy: 0.9984\n",
      "Epoch 23/100\n",
      "75000/75000 [==============================] - 11s 147us/step - loss: 0.0181 - accuracy: 0.9978 - val_loss: 0.0033 - val_accuracy: 0.9976\n",
      "Epoch 24/100\n",
      "75000/75000 [==============================] - 10s 139us/step - loss: 0.0178 - accuracy: 0.9978 - val_loss: 0.0020 - val_accuracy: 0.9986\n",
      "Epoch 25/100\n",
      "75000/75000 [==============================] - 10s 131us/step - loss: 0.0189 - accuracy: 0.9971 - val_loss: 0.0027 - val_accuracy: 0.9980\n",
      "Epoch 26/100\n",
      "75000/75000 [==============================] - 10s 129us/step - loss: 0.0179 - accuracy: 0.9975 - val_loss: 0.0019 - val_accuracy: 0.9988\n",
      "Epoch 27/100\n",
      "75000/75000 [==============================] - 13s 176us/step - loss: 0.0176 - accuracy: 0.9981 - val_loss: 0.0016 - val_accuracy: 0.9988\n",
      "Epoch 28/100\n",
      "75000/75000 [==============================] - 11s 149us/step - loss: 0.0180 - accuracy: 0.9976 - val_loss: 0.0022 - val_accuracy: 0.9981\n",
      "Epoch 29/100\n",
      "75000/75000 [==============================] - 11s 149us/step - loss: 0.0179 - accuracy: 0.9977 - val_loss: 0.0028 - val_accuracy: 0.9987\n",
      "Epoch 30/100\n",
      "75000/75000 [==============================] - 11s 149us/step - loss: 0.0184 - accuracy: 0.9974 - val_loss: 0.0016 - val_accuracy: 0.9988\n",
      "Epoch 31/100\n",
      "75000/75000 [==============================] - 13s 175us/step - loss: 0.0176 - accuracy: 0.9975 - val_loss: 0.0025 - val_accuracy: 0.9982\n",
      "Epoch 32/100\n",
      "75000/75000 [==============================] - 12s 161us/step - loss: 0.0177 - accuracy: 0.9979 - val_loss: 0.0016 - val_accuracy: 0.9989\n",
      "Epoch 33/100\n",
      "75000/75000 [==============================] - 11s 145us/step - loss: 0.0173 - accuracy: 0.9979 - val_loss: 0.0024 - val_accuracy: 0.9985\n",
      "Epoch 34/100\n",
      "75000/75000 [==============================] - 10s 137us/step - loss: 0.0178 - accuracy: 0.9978 - val_loss: 0.0015 - val_accuracy: 0.9990\n",
      "Epoch 35/100\n",
      "75000/75000 [==============================] - 10s 133us/step - loss: 0.0178 - accuracy: 0.9976 - val_loss: 0.0029 - val_accuracy: 0.9982\n",
      "Epoch 36/100\n",
      "75000/75000 [==============================] - 10s 127us/step - loss: 0.0177 - accuracy: 0.9977 - val_loss: 0.0022 - val_accuracy: 0.9988\n",
      "Epoch 37/100\n",
      "75000/75000 [==============================] - 10s 131us/step - loss: 0.0176 - accuracy: 0.9978 - val_loss: 0.0024 - val_accuracy: 0.9987\n",
      "Epoch 38/100\n",
      "75000/75000 [==============================] - 10s 135us/step - loss: 0.0180 - accuracy: 0.9975 - val_loss: 0.0030 - val_accuracy: 0.9975\n",
      "Epoch 39/100\n",
      "75000/75000 [==============================] - 10s 137us/step - loss: 0.0177 - accuracy: 0.9976 - val_loss: 0.0018 - val_accuracy: 0.9988\n",
      "Epoch 40/100\n",
      "75000/75000 [==============================] - 12s 155us/step - loss: 0.0182 - accuracy: 0.9972 - val_loss: 0.0021 - val_accuracy: 0.9986\n",
      "Epoch 41/100\n",
      "75000/75000 [==============================] - 12s 154us/step - loss: 0.0182 - accuracy: 0.9973 - val_loss: 0.0016 - val_accuracy: 0.9986\n",
      "Epoch 42/100\n",
      "75000/75000 [==============================] - 13s 173us/step - loss: 0.0178 - accuracy: 0.9978 - val_loss: 0.0020 - val_accuracy: 0.9987\n",
      "Epoch 43/100\n",
      "75000/75000 [==============================] - 13s 172us/step - loss: 0.0176 - accuracy: 0.9976 - val_loss: 0.0018 - val_accuracy: 0.9986\n",
      "Epoch 44/100\n",
      "75000/75000 [==============================] - 12s 161us/step - loss: 0.0177 - accuracy: 0.9977 - val_loss: 0.0026 - val_accuracy: 0.9986\n",
      "Epoch 45/100\n",
      "75000/75000 [==============================] - 10s 139us/step - loss: 0.0182 - accuracy: 0.9972 - val_loss: 0.0012 - val_accuracy: 0.9989\n",
      "Epoch 46/100\n",
      "75000/75000 [==============================] - 9s 121us/step - loss: 0.0179 - accuracy: 0.9974 - val_loss: 0.0022 - val_accuracy: 0.9980\n",
      "Epoch 47/100\n",
      "75000/75000 [==============================] - 9s 118us/step - loss: 0.0175 - accuracy: 0.9979 - val_loss: 0.0023 - val_accuracy: 0.9986\n",
      "Epoch 48/100\n",
      "75000/75000 [==============================] - 11s 153us/step - loss: 0.0178 - accuracy: 0.9976 - val_loss: 0.0016 - val_accuracy: 0.9986\n",
      "Epoch 49/100\n",
      "75000/75000 [==============================] - 10s 132us/step - loss: 0.0182 - accuracy: 0.9971 - val_loss: 0.0023 - val_accuracy: 0.9984\n",
      "Epoch 50/100\n",
      "75000/75000 [==============================] - 10s 133us/step - loss: 0.0179 - accuracy: 0.9976 - val_loss: 0.0026 - val_accuracy: 0.9986\n",
      "Epoch 51/100\n",
      "75000/75000 [==============================] - 10s 131us/step - loss: 0.0178 - accuracy: 0.9979 - val_loss: 0.0031 - val_accuracy: 0.9980\n",
      "Epoch 52/100\n",
      "75000/75000 [==============================] - 10s 132us/step - loss: 0.0186 - accuracy: 0.9971 - val_loss: 0.0020 - val_accuracy: 0.9983\n",
      "Epoch 53/100\n",
      "75000/75000 [==============================] - 10s 127us/step - loss: 0.0173 - accuracy: 0.9982 - val_loss: 0.0026 - val_accuracy: 0.9975\n",
      "Epoch 54/100\n",
      "75000/75000 [==============================] - 10s 127us/step - loss: 0.0181 - accuracy: 0.9974 - val_loss: 0.0026 - val_accuracy: 0.9980\n",
      "Epoch 55/100\n"
     ]
    },
    {
     "name": "stdout",
     "output_type": "stream",
     "text": [
      "75000/75000 [==============================] - 10s 131us/step - loss: 0.0179 - accuracy: 0.9974 - val_loss: 0.0017 - val_accuracy: 0.9987\n",
      "Epoch 56/100\n",
      "75000/75000 [==============================] - 10s 127us/step - loss: 0.0179 - accuracy: 0.9976 - val_loss: 0.0026 - val_accuracy: 0.9984\n",
      "Epoch 57/100\n",
      "75000/75000 [==============================] - 9s 118us/step - loss: 0.0179 - accuracy: 0.9976 - val_loss: 0.0018 - val_accuracy: 0.9986\n",
      "Epoch 58/100\n",
      "75000/75000 [==============================] - 8s 111us/step - loss: 0.0180 - accuracy: 0.9974 - val_loss: 0.0015 - val_accuracy: 0.9988\n",
      "Epoch 59/100\n",
      "75000/75000 [==============================] - 8s 110us/step - loss: 0.0176 - accuracy: 0.9979 - val_loss: 0.0016 - val_accuracy: 0.9986\n",
      "Epoch 60/100\n",
      "75000/75000 [==============================] - 8s 108us/step - loss: 0.0183 - accuracy: 0.9971 - val_loss: 0.0020 - val_accuracy: 0.9986\n",
      "Epoch 61/100\n",
      "75000/75000 [==============================] - 10s 129us/step - loss: 0.0175 - accuracy: 0.9981 - val_loss: 0.0017 - val_accuracy: 0.9985\n",
      "Epoch 62/100\n",
      "75000/75000 [==============================] - 11s 142us/step - loss: 0.0180 - accuracy: 0.9976 - val_loss: 0.0015 - val_accuracy: 0.9988\n",
      "Epoch 63/100\n",
      "75000/75000 [==============================] - 12s 159us/step - loss: 0.0177 - accuracy: 0.9979 - val_loss: 0.0026 - val_accuracy: 0.9981\n",
      "Epoch 64/100\n",
      "75000/75000 [==============================] - 13s 168us/step - loss: 0.0180 - accuracy: 0.9974 - val_loss: 0.0023 - val_accuracy: 0.9984\n",
      "Epoch 65/100\n",
      "75000/75000 [==============================] - 12s 163us/step - loss: 0.0177 - accuracy: 0.9976 - val_loss: 0.0017 - val_accuracy: 0.9988\n",
      "Epoch 66/100\n",
      "75000/75000 [==============================] - 11s 143us/step - loss: 0.0177 - accuracy: 0.9978 - val_loss: 0.0014 - val_accuracy: 0.9986\n",
      "Epoch 67/100\n",
      "75000/75000 [==============================] - 9s 121us/step - loss: 0.0178 - accuracy: 0.9976 - val_loss: 0.0023 - val_accuracy: 0.9984\n",
      "Epoch 68/100\n",
      "75000/75000 [==============================] - 9s 114us/step - loss: 0.0178 - accuracy: 0.9977 - val_loss: 0.0020 - val_accuracy: 0.9977\n",
      "Epoch 69/100\n",
      "75000/75000 [==============================] - 8s 110us/step - loss: 0.0181 - accuracy: 0.9974 - val_loss: 0.0028 - val_accuracy: 0.9979\n",
      "Epoch 70/100\n",
      "75000/75000 [==============================] - 8s 109us/step - loss: 0.0185 - accuracy: 0.9971 - val_loss: 0.0027 - val_accuracy: 0.9972\n",
      "Epoch 71/100\n",
      "75000/75000 [==============================] - 8s 110us/step - loss: 0.0183 - accuracy: 0.9971 - val_loss: 0.0022 - val_accuracy: 0.9986\n",
      "Epoch 72/100\n",
      "75000/75000 [==============================] - 8s 113us/step - loss: 0.0181 - accuracy: 0.9974 - val_loss: 0.0022 - val_accuracy: 0.9978\n",
      "Epoch 73/100\n",
      "75000/75000 [==============================] - 9s 121us/step - loss: 0.0176 - accuracy: 0.9978 - val_loss: 0.0021 - val_accuracy: 0.9982\n",
      "Epoch 74/100\n",
      "75000/75000 [==============================] - 9s 126us/step - loss: 0.0181 - accuracy: 0.9974 - val_loss: 0.0025 - val_accuracy: 0.9985\n",
      "Epoch 75/100\n",
      "75000/75000 [==============================] - 10s 131us/step - loss: 0.0186 - accuracy: 0.9970 - val_loss: 0.0019 - val_accuracy: 0.9984\n",
      "Epoch 76/100\n",
      "75000/75000 [==============================] - 10s 133us/step - loss: 0.0179 - accuracy: 0.9975 - val_loss: 0.0018 - val_accuracy: 0.9983\n",
      "Epoch 77/100\n",
      "75000/75000 [==============================] - 10s 128us/step - loss: 0.0181 - accuracy: 0.9974 - val_loss: 0.0041 - val_accuracy: 0.9976\n",
      "Epoch 78/100\n",
      "75000/75000 [==============================] - 10s 127us/step - loss: 0.0185 - accuracy: 0.9972 - val_loss: 0.0015 - val_accuracy: 0.9990\n",
      "Epoch 79/100\n",
      "75000/75000 [==============================] - 9s 122us/step - loss: 0.0185 - accuracy: 0.9971 - val_loss: 0.0017 - val_accuracy: 0.9989\n",
      "Epoch 80/100\n",
      "75000/75000 [==============================] - 9s 125us/step - loss: 0.0185 - accuracy: 0.9968 - val_loss: 0.0011 - val_accuracy: 0.9990\n",
      "Epoch 81/100\n",
      "75000/75000 [==============================] - 9s 123us/step - loss: 0.0185 - accuracy: 0.9970 - val_loss: 0.0016 - val_accuracy: 0.9986\n",
      "Epoch 82/100\n",
      "75000/75000 [==============================] - 9s 126us/step - loss: 0.0182 - accuracy: 0.9974 - val_loss: 0.0019 - val_accuracy: 0.9986\n",
      "Epoch 83/100\n",
      "75000/75000 [==============================] - 9s 118us/step - loss: 0.0199 - accuracy: 0.9952 - val_loss: 0.0020 - val_accuracy: 0.9983\n",
      "Epoch 84/100\n",
      "75000/75000 [==============================] - 10s 134us/step - loss: 0.0185 - accuracy: 0.9969 - val_loss: 0.0023 - val_accuracy: 0.9983\n",
      "Epoch 85/100\n",
      "75000/75000 [==============================] - 10s 136us/step - loss: 0.0183 - accuracy: 0.9972 - val_loss: 0.0020 - val_accuracy: 0.9987\n",
      "Epoch 86/100\n",
      "75000/75000 [==============================] - 10s 139us/step - loss: 0.0188 - accuracy: 0.9967 - val_loss: 0.0030 - val_accuracy: 0.9979\n",
      "Epoch 87/100\n",
      "75000/75000 [==============================] - 10s 131us/step - loss: 0.0183 - accuracy: 0.9972 - val_loss: 0.0025 - val_accuracy: 0.9986\n",
      "Epoch 88/100\n",
      "75000/75000 [==============================] - 9s 121us/step - loss: 0.0180 - accuracy: 0.9974 - val_loss: 0.0017 - val_accuracy: 0.9984\n",
      "Epoch 89/100\n",
      "75000/75000 [==============================] - 9s 117us/step - loss: 0.0184 - accuracy: 0.9969 - val_loss: 0.0025 - val_accuracy: 0.9983\n",
      "Epoch 90/100\n",
      "75000/75000 [==============================] - 9s 117us/step - loss: 0.0183 - accuracy: 0.9971 - val_loss: 0.0029 - val_accuracy: 0.9979\n",
      "Epoch 91/100\n",
      "75000/75000 [==============================] - 8s 111us/step - loss: 0.0189 - accuracy: 0.9966 - val_loss: 0.0016 - val_accuracy: 0.9986\n",
      "Epoch 92/100\n",
      "75000/75000 [==============================] - 9s 122us/step - loss: 0.0181 - accuracy: 0.9974 - val_loss: 0.0018 - val_accuracy: 0.9985\n",
      "Epoch 93/100\n",
      "75000/75000 [==============================] - 9s 124us/step - loss: 0.0185 - accuracy: 0.9970 - val_loss: 0.0013 - val_accuracy: 0.9989\n",
      "Epoch 94/100\n",
      "75000/75000 [==============================] - 9s 123us/step - loss: 0.0180 - accuracy: 0.9977 - val_loss: 0.0018 - val_accuracy: 0.9986\n",
      "Epoch 95/100\n",
      "75000/75000 [==============================] - 9s 120us/step - loss: 0.0190 - accuracy: 0.9967 - val_loss: 0.0029 - val_accuracy: 0.9982\n",
      "Epoch 96/100\n",
      "75000/75000 [==============================] - 9s 116us/step - loss: 0.0184 - accuracy: 0.9972 - val_loss: 0.0022 - val_accuracy: 0.9984\n",
      "Epoch 97/100\n",
      "75000/75000 [==============================] - 9s 114us/step - loss: 0.0185 - accuracy: 0.9969 - val_loss: 0.0023 - val_accuracy: 0.9984\n",
      "Epoch 98/100\n",
      "75000/75000 [==============================] - 8s 111us/step - loss: 0.0185 - accuracy: 0.9971 - val_loss: 0.0038 - val_accuracy: 0.9985\n",
      "Epoch 99/100\n",
      "75000/75000 [==============================] - 9s 116us/step - loss: 0.0180 - accuracy: 0.9976 - val_loss: 0.0020 - val_accuracy: 0.9986\n",
      "Epoch 100/100\n",
      "75000/75000 [==============================] - 9s 120us/step - loss: 0.0189 - accuracy: 0.9966 - val_loss: 0.0018 - val_accuracy: 0.9983\n"
     ]
    },
    {
     "data": {
      "text/plain": [
       "<keras.callbacks.callbacks.History at 0x1a402d5128>"
      ]
     },
     "execution_count": 68,
     "metadata": {},
     "output_type": "execute_result"
    }
   ],
   "source": [
    "f_np = np.array(data_feature)\n",
    "t_np = np.array(data_target)\n",
    "\n",
    "f_np = f_np.reshape(f_np.shape[0], 6, 7, 1)\n",
    "\n",
    "X_train, X_test, y_train, y_test = train_test_split(f_np, t_np)\n",
    "\n",
    "\n",
    "\n",
    "model.fit(X_train, y_train, epochs=100, verbose=1, validation_data=(X_test, y_test))"
   ]
  },
  {
   "cell_type": "code",
   "execution_count": 69,
   "metadata": {},
   "outputs": [
    {
     "name": "stdout",
     "output_type": "stream",
     "text": [
      "Model: \"sequential_7\"\n",
      "_________________________________________________________________\n",
      "Layer (type)                 Output Shape              Param #   \n",
      "=================================================================\n",
      "conv2d_10 (Conv2D)           (None, 3, 4, 256)         4352      \n",
      "_________________________________________________________________\n",
      "activation_19 (Activation)   (None, 3, 4, 256)         0         \n",
      "_________________________________________________________________\n",
      "conv2d_11 (Conv2D)           (None, 2, 3, 64)          65600     \n",
      "_________________________________________________________________\n",
      "activation_20 (Activation)   (None, 2, 3, 64)          0         \n",
      "_________________________________________________________________\n",
      "flatten_7 (Flatten)          (None, 384)               0         \n",
      "_________________________________________________________________\n",
      "dense_16 (Dense)             (None, 64)                24640     \n",
      "_________________________________________________________________\n",
      "dropout_4 (Dropout)          (None, 64)                0         \n",
      "_________________________________________________________________\n",
      "activation_21 (Activation)   (None, 64)                0         \n",
      "_________________________________________________________________\n",
      "dense_17 (Dense)             (None, 32)                2080      \n",
      "_________________________________________________________________\n",
      "dropout_5 (Dropout)          (None, 32)                0         \n",
      "_________________________________________________________________\n",
      "activation_22 (Activation)   (None, 32)                0         \n",
      "_________________________________________________________________\n",
      "dense_18 (Dense)             (None, 1)                 33        \n",
      "=================================================================\n",
      "Total params: 96,705\n",
      "Trainable params: 96,705\n",
      "Non-trainable params: 0\n",
      "_________________________________________________________________\n"
     ]
    }
   ],
   "source": [
    "model.summary()"
   ]
  },
  {
   "cell_type": "code",
   "execution_count": 70,
   "metadata": {},
   "outputs": [],
   "source": [
    "model.save(\"../Model/100000_RR_256x4_64x2_32x2_64_32_dropout.h5\")"
   ]
  },
  {
   "cell_type": "code",
   "execution_count": null,
   "metadata": {},
   "outputs": [],
   "source": []
  },
  {
   "cell_type": "code",
   "execution_count": null,
   "metadata": {},
   "outputs": [],
   "source": []
  },
  {
   "cell_type": "code",
   "execution_count": null,
   "metadata": {},
   "outputs": [],
   "source": []
  },
  {
   "cell_type": "markdown",
   "metadata": {},
   "source": [
    "# check"
   ]
  },
  {
   "cell_type": "code",
   "execution_count": 9,
   "metadata": {},
   "outputs": [
    {
     "data": {
      "text/html": [
       "<div>\n",
       "<style scoped>\n",
       "    .dataframe tbody tr th:only-of-type {\n",
       "        vertical-align: middle;\n",
       "    }\n",
       "\n",
       "    .dataframe tbody tr th {\n",
       "        vertical-align: top;\n",
       "    }\n",
       "\n",
       "    .dataframe thead th {\n",
       "        text-align: right;\n",
       "    }\n",
       "</style>\n",
       "<table border=\"1\" class=\"dataframe\">\n",
       "  <thead>\n",
       "    <tr style=\"text-align: right;\">\n",
       "      <th></th>\n",
       "      <th>c</th>\n",
       "    </tr>\n",
       "    <tr>\n",
       "      <th>t</th>\n",
       "      <th></th>\n",
       "    </tr>\n",
       "  </thead>\n",
       "  <tbody>\n",
       "    <tr>\n",
       "      <th>-1</th>\n",
       "      <td>36</td>\n",
       "    </tr>\n",
       "    <tr>\n",
       "      <th>1</th>\n",
       "      <td>64</td>\n",
       "    </tr>\n",
       "  </tbody>\n",
       "</table>\n",
       "</div>"
      ],
      "text/plain": [
       "     c\n",
       "t     \n",
       "-1  36\n",
       " 1  64"
      ]
     },
     "execution_count": 9,
     "metadata": {},
     "output_type": "execute_result"
    }
   ],
   "source": [
    "NNA_Random_32x2_32x2_32_32 = (pd\n",
    "                            .read_csv(\"../Game_results/NN_A_Random_100_1589158063_100000_RR_32x2_32x2_32_32.csv\", \n",
    "                                                                  names = [\"t\"]))\n",
    "NNA_Random_32x2_32x2_32_32[\"c\"] = 1\n",
    "NNA_Random_32x2_32x2_32_32.groupby(\"t\").count()"
   ]
  },
  {
   "cell_type": "code",
   "execution_count": 10,
   "metadata": {},
   "outputs": [
    {
     "data": {
      "text/html": [
       "<div>\n",
       "<style scoped>\n",
       "    .dataframe tbody tr th:only-of-type {\n",
       "        vertical-align: middle;\n",
       "    }\n",
       "\n",
       "    .dataframe tbody tr th {\n",
       "        vertical-align: top;\n",
       "    }\n",
       "\n",
       "    .dataframe thead th {\n",
       "        text-align: right;\n",
       "    }\n",
       "</style>\n",
       "<table border=\"1\" class=\"dataframe\">\n",
       "  <thead>\n",
       "    <tr style=\"text-align: right;\">\n",
       "      <th></th>\n",
       "      <th>c</th>\n",
       "    </tr>\n",
       "    <tr>\n",
       "      <th>t</th>\n",
       "      <th></th>\n",
       "    </tr>\n",
       "  </thead>\n",
       "  <tbody>\n",
       "    <tr>\n",
       "      <th>-1</th>\n",
       "      <td>56</td>\n",
       "    </tr>\n",
       "    <tr>\n",
       "      <th>1</th>\n",
       "      <td>44</td>\n",
       "    </tr>\n",
       "  </tbody>\n",
       "</table>\n",
       "</div>"
      ],
      "text/plain": [
       "     c\n",
       "t     \n",
       "-1  56\n",
       " 1  44"
      ]
     },
     "execution_count": 10,
     "metadata": {},
     "output_type": "execute_result"
    }
   ],
   "source": [
    "Random_NNA_32x2_32x2_32_32 = (pd\n",
    "          .read_csv(\"../Game_results/Random_NN_A_100_1589159855_100000_RR_32x2_32x2_32_32.csv\", names = [\"t\"]))\n",
    "Random_NNA_32x2_32x2_32_32[\"c\"] = 1\n",
    "Random_NNA_32x2_32x2_32_32.groupby(\"t\").count()"
   ]
  },
  {
   "cell_type": "code",
   "execution_count": 11,
   "metadata": {},
   "outputs": [
    {
     "data": {
      "text/html": [
       "<div>\n",
       "<style scoped>\n",
       "    .dataframe tbody tr th:only-of-type {\n",
       "        vertical-align: middle;\n",
       "    }\n",
       "\n",
       "    .dataframe tbody tr th {\n",
       "        vertical-align: top;\n",
       "    }\n",
       "\n",
       "    .dataframe thead th {\n",
       "        text-align: right;\n",
       "    }\n",
       "</style>\n",
       "<table border=\"1\" class=\"dataframe\">\n",
       "  <thead>\n",
       "    <tr style=\"text-align: right;\">\n",
       "      <th></th>\n",
       "      <th>c</th>\n",
       "    </tr>\n",
       "    <tr>\n",
       "      <th>t</th>\n",
       "      <th></th>\n",
       "    </tr>\n",
       "  </thead>\n",
       "  <tbody>\n",
       "    <tr>\n",
       "      <th>-1</th>\n",
       "      <td>25</td>\n",
       "    </tr>\n",
       "    <tr>\n",
       "      <th>1</th>\n",
       "      <td>75</td>\n",
       "    </tr>\n",
       "  </tbody>\n",
       "</table>\n",
       "</div>"
      ],
      "text/plain": [
       "     c\n",
       "t     \n",
       "-1  25\n",
       " 1  75"
      ]
     },
     "execution_count": 11,
     "metadata": {},
     "output_type": "execute_result"
    }
   ],
   "source": [
    "result3 = pd.read_csv(\"../Game_results/NN_A_Random_100_1589162804_100000_RR_32x2_32x2_32x2_32_32_32.csv\", \n",
    "                     names = [\"t\"])\n",
    "result3[\"c\"] = 1\n",
    "result3.groupby(\"t\").count()"
   ]
  },
  {
   "cell_type": "code",
   "execution_count": 12,
   "metadata": {},
   "outputs": [
    {
     "data": {
      "text/html": [
       "<div>\n",
       "<style scoped>\n",
       "    .dataframe tbody tr th:only-of-type {\n",
       "        vertical-align: middle;\n",
       "    }\n",
       "\n",
       "    .dataframe tbody tr th {\n",
       "        vertical-align: top;\n",
       "    }\n",
       "\n",
       "    .dataframe thead th {\n",
       "        text-align: right;\n",
       "    }\n",
       "</style>\n",
       "<table border=\"1\" class=\"dataframe\">\n",
       "  <thead>\n",
       "    <tr style=\"text-align: right;\">\n",
       "      <th></th>\n",
       "      <th>c</th>\n",
       "    </tr>\n",
       "    <tr>\n",
       "      <th>t</th>\n",
       "      <th></th>\n",
       "    </tr>\n",
       "  </thead>\n",
       "  <tbody>\n",
       "    <tr>\n",
       "      <th>-1</th>\n",
       "      <td>70</td>\n",
       "    </tr>\n",
       "    <tr>\n",
       "      <th>1</th>\n",
       "      <td>30</td>\n",
       "    </tr>\n",
       "  </tbody>\n",
       "</table>\n",
       "</div>"
      ],
      "text/plain": [
       "     c\n",
       "t     \n",
       "-1  70\n",
       " 1  30"
      ]
     },
     "execution_count": 12,
     "metadata": {},
     "output_type": "execute_result"
    }
   ],
   "source": [
    "result4 = pd.read_csv(\"../Game_results/Random_NN_A_100_1589164289_100000_RR_32x2_32x2_32x2_32_32_32.csv\", \n",
    "                     names = [\"t\"])\n",
    "result4[\"c\"] = 1\n",
    "result4.groupby(\"t\").count()"
   ]
  },
  {
   "cell_type": "code",
   "execution_count": 13,
   "metadata": {},
   "outputs": [
    {
     "data": {
      "text/html": [
       "<div>\n",
       "<style scoped>\n",
       "    .dataframe tbody tr th:only-of-type {\n",
       "        vertical-align: middle;\n",
       "    }\n",
       "\n",
       "    .dataframe tbody tr th {\n",
       "        vertical-align: top;\n",
       "    }\n",
       "\n",
       "    .dataframe thead th {\n",
       "        text-align: right;\n",
       "    }\n",
       "</style>\n",
       "<table border=\"1\" class=\"dataframe\">\n",
       "  <thead>\n",
       "    <tr style=\"text-align: right;\">\n",
       "      <th></th>\n",
       "      <th>c</th>\n",
       "    </tr>\n",
       "    <tr>\n",
       "      <th>t</th>\n",
       "      <th></th>\n",
       "    </tr>\n",
       "  </thead>\n",
       "  <tbody>\n",
       "    <tr>\n",
       "      <th>-1</th>\n",
       "      <td>5</td>\n",
       "    </tr>\n",
       "    <tr>\n",
       "      <th>1</th>\n",
       "      <td>95</td>\n",
       "    </tr>\n",
       "  </tbody>\n",
       "</table>\n",
       "</div>"
      ],
      "text/plain": [
       "     c\n",
       "t     \n",
       "-1   5\n",
       " 1  95"
      ]
     },
     "execution_count": 13,
     "metadata": {},
     "output_type": "execute_result"
    }
   ],
   "source": [
    "result5 = pd.read_csv(\"../Game_results/NN_A_Random_100_1589166730100000_RR_64x2_64.csv\", names = [\"t\"])\n",
    "result5[\"c\"] = 1\n",
    "result5.groupby(\"t\").count()"
   ]
  },
  {
   "cell_type": "code",
   "execution_count": 14,
   "metadata": {},
   "outputs": [
    {
     "data": {
      "text/html": [
       "<div>\n",
       "<style scoped>\n",
       "    .dataframe tbody tr th:only-of-type {\n",
       "        vertical-align: middle;\n",
       "    }\n",
       "\n",
       "    .dataframe tbody tr th {\n",
       "        vertical-align: top;\n",
       "    }\n",
       "\n",
       "    .dataframe thead th {\n",
       "        text-align: right;\n",
       "    }\n",
       "</style>\n",
       "<table border=\"1\" class=\"dataframe\">\n",
       "  <thead>\n",
       "    <tr style=\"text-align: right;\">\n",
       "      <th></th>\n",
       "      <th>c</th>\n",
       "    </tr>\n",
       "    <tr>\n",
       "      <th>t</th>\n",
       "      <th></th>\n",
       "    </tr>\n",
       "  </thead>\n",
       "  <tbody>\n",
       "    <tr>\n",
       "      <th>-1</th>\n",
       "      <td>92</td>\n",
       "    </tr>\n",
       "    <tr>\n",
       "      <th>1</th>\n",
       "      <td>8</td>\n",
       "    </tr>\n",
       "  </tbody>\n",
       "</table>\n",
       "</div>"
      ],
      "text/plain": [
       "     c\n",
       "t     \n",
       "-1  92\n",
       " 1   8"
      ]
     },
     "execution_count": 14,
     "metadata": {},
     "output_type": "execute_result"
    }
   ],
   "source": [
    "result6 = pd.read_csv(\"../Game_results/Random_NN_A_100_1589167262_100000_RR_64x2_64.csv\", names = [\"t\"])\n",
    "result6[\"c\"] = 1\n",
    "result6.groupby(\"t\").count()"
   ]
  },
  {
   "cell_type": "code",
   "execution_count": 15,
   "metadata": {},
   "outputs": [
    {
     "data": {
      "text/html": [
       "<div>\n",
       "<style scoped>\n",
       "    .dataframe tbody tr th:only-of-type {\n",
       "        vertical-align: middle;\n",
       "    }\n",
       "\n",
       "    .dataframe tbody tr th {\n",
       "        vertical-align: top;\n",
       "    }\n",
       "\n",
       "    .dataframe thead th {\n",
       "        text-align: right;\n",
       "    }\n",
       "</style>\n",
       "<table border=\"1\" class=\"dataframe\">\n",
       "  <thead>\n",
       "    <tr style=\"text-align: right;\">\n",
       "      <th></th>\n",
       "      <th>c</th>\n",
       "    </tr>\n",
       "    <tr>\n",
       "      <th>t</th>\n",
       "      <th></th>\n",
       "    </tr>\n",
       "  </thead>\n",
       "  <tbody>\n",
       "    <tr>\n",
       "      <th>-1</th>\n",
       "      <td>27</td>\n",
       "    </tr>\n",
       "    <tr>\n",
       "      <th>1</th>\n",
       "      <td>73</td>\n",
       "    </tr>\n",
       "  </tbody>\n",
       "</table>\n",
       "</div>"
      ],
      "text/plain": [
       "     c\n",
       "t     \n",
       "-1  27\n",
       " 1  73"
      ]
     },
     "execution_count": 15,
     "metadata": {},
     "output_type": "execute_result"
    }
   ],
   "source": [
    "result7 = pd.read_csv(\"../Game_results/NN_A_Random_100_1589167501_100000_RR_64x2_64x2_64_64.csv\", names = [\"t\"])\n",
    "result7[\"c\"] = 1\n",
    "result7.groupby(\"t\").count()"
   ]
  },
  {
   "cell_type": "code",
   "execution_count": 16,
   "metadata": {},
   "outputs": [
    {
     "data": {
      "text/html": [
       "<div>\n",
       "<style scoped>\n",
       "    .dataframe tbody tr th:only-of-type {\n",
       "        vertical-align: middle;\n",
       "    }\n",
       "\n",
       "    .dataframe tbody tr th {\n",
       "        vertical-align: top;\n",
       "    }\n",
       "\n",
       "    .dataframe thead th {\n",
       "        text-align: right;\n",
       "    }\n",
       "</style>\n",
       "<table border=\"1\" class=\"dataframe\">\n",
       "  <thead>\n",
       "    <tr style=\"text-align: right;\">\n",
       "      <th></th>\n",
       "      <th>c</th>\n",
       "    </tr>\n",
       "    <tr>\n",
       "      <th>t</th>\n",
       "      <th></th>\n",
       "    </tr>\n",
       "  </thead>\n",
       "  <tbody>\n",
       "    <tr>\n",
       "      <th>-1</th>\n",
       "      <td>71</td>\n",
       "    </tr>\n",
       "    <tr>\n",
       "      <th>1</th>\n",
       "      <td>29</td>\n",
       "    </tr>\n",
       "  </tbody>\n",
       "</table>\n",
       "</div>"
      ],
      "text/plain": [
       "     c\n",
       "t     \n",
       "-1  71\n",
       " 1  29"
      ]
     },
     "execution_count": 16,
     "metadata": {},
     "output_type": "execute_result"
    }
   ],
   "source": [
    "result8 = pd.read_csv(\"../Game_results/Random_NN_A_100_1589167545100000_RR_64x2_64x2_64_64.csv\", names = [\"t\"])\n",
    "result8[\"c\"] = 1\n",
    "result8.groupby(\"t\").count()"
   ]
  },
  {
   "cell_type": "code",
   "execution_count": 17,
   "metadata": {},
   "outputs": [
    {
     "data": {
      "text/html": [
       "<div>\n",
       "<style scoped>\n",
       "    .dataframe tbody tr th:only-of-type {\n",
       "        vertical-align: middle;\n",
       "    }\n",
       "\n",
       "    .dataframe tbody tr th {\n",
       "        vertical-align: top;\n",
       "    }\n",
       "\n",
       "    .dataframe thead th {\n",
       "        text-align: right;\n",
       "    }\n",
       "</style>\n",
       "<table border=\"1\" class=\"dataframe\">\n",
       "  <thead>\n",
       "    <tr style=\"text-align: right;\">\n",
       "      <th></th>\n",
       "      <th>c</th>\n",
       "    </tr>\n",
       "    <tr>\n",
       "      <th>t</th>\n",
       "      <th></th>\n",
       "    </tr>\n",
       "  </thead>\n",
       "  <tbody>\n",
       "    <tr>\n",
       "      <th>-1</th>\n",
       "      <td>21</td>\n",
       "    </tr>\n",
       "    <tr>\n",
       "      <th>1</th>\n",
       "      <td>79</td>\n",
       "    </tr>\n",
       "  </tbody>\n",
       "</table>\n",
       "</div>"
      ],
      "text/plain": [
       "     c\n",
       "t     \n",
       "-1  21\n",
       " 1  79"
      ]
     },
     "execution_count": 17,
     "metadata": {},
     "output_type": "execute_result"
    }
   ],
   "source": [
    "result9 = pd.read_csv(\"../Game_results/NN_A_Random_100_1589168923100000_RR_128x4_32x2_64_32.csv\", names = [\"t\"])\n",
    "result9[\"c\"] = 1\n",
    "result9.groupby(\"t\").count()"
   ]
  },
  {
   "cell_type": "code",
   "execution_count": 18,
   "metadata": {},
   "outputs": [
    {
     "data": {
      "text/html": [
       "<div>\n",
       "<style scoped>\n",
       "    .dataframe tbody tr th:only-of-type {\n",
       "        vertical-align: middle;\n",
       "    }\n",
       "\n",
       "    .dataframe tbody tr th {\n",
       "        vertical-align: top;\n",
       "    }\n",
       "\n",
       "    .dataframe thead th {\n",
       "        text-align: right;\n",
       "    }\n",
       "</style>\n",
       "<table border=\"1\" class=\"dataframe\">\n",
       "  <thead>\n",
       "    <tr style=\"text-align: right;\">\n",
       "      <th></th>\n",
       "      <th>c</th>\n",
       "    </tr>\n",
       "    <tr>\n",
       "      <th>t</th>\n",
       "      <th></th>\n",
       "    </tr>\n",
       "  </thead>\n",
       "  <tbody>\n",
       "    <tr>\n",
       "      <th>-1</th>\n",
       "      <td>81</td>\n",
       "    </tr>\n",
       "    <tr>\n",
       "      <th>1</th>\n",
       "      <td>19</td>\n",
       "    </tr>\n",
       "  </tbody>\n",
       "</table>\n",
       "</div>"
      ],
      "text/plain": [
       "     c\n",
       "t     \n",
       "-1  81\n",
       " 1  19"
      ]
     },
     "execution_count": 18,
     "metadata": {},
     "output_type": "execute_result"
    }
   ],
   "source": [
    "result10 = pd.read_csv(\"../Game_results/Random_NN_A_100_1589168930100000_RR_128x4_32x2_64_32.csv\", names = [\"t\"])\n",
    "result10[\"c\"] = 1\n",
    "result10.groupby(\"t\").count()"
   ]
  },
  {
   "cell_type": "code",
   "execution_count": 21,
   "metadata": {},
   "outputs": [
    {
     "data": {
      "text/html": [
       "<div>\n",
       "<style scoped>\n",
       "    .dataframe tbody tr th:only-of-type {\n",
       "        vertical-align: middle;\n",
       "    }\n",
       "\n",
       "    .dataframe tbody tr th {\n",
       "        vertical-align: top;\n",
       "    }\n",
       "\n",
       "    .dataframe thead th {\n",
       "        text-align: right;\n",
       "    }\n",
       "</style>\n",
       "<table border=\"1\" class=\"dataframe\">\n",
       "  <thead>\n",
       "    <tr style=\"text-align: right;\">\n",
       "      <th></th>\n",
       "      <th>c</th>\n",
       "    </tr>\n",
       "    <tr>\n",
       "      <th>t</th>\n",
       "      <th></th>\n",
       "    </tr>\n",
       "  </thead>\n",
       "  <tbody>\n",
       "    <tr>\n",
       "      <th>-1</th>\n",
       "      <td>21</td>\n",
       "    </tr>\n",
       "    <tr>\n",
       "      <th>1</th>\n",
       "      <td>79</td>\n",
       "    </tr>\n",
       "  </tbody>\n",
       "</table>\n",
       "</div>"
      ],
      "text/plain": [
       "     c\n",
       "t     \n",
       "-1  21\n",
       " 1  79"
      ]
     },
     "execution_count": 21,
     "metadata": {},
     "output_type": "execute_result"
    }
   ],
   "source": [
    "result11 = pd.read_csv(\"../Game_results/NN_A_Random_100_1589171017100000_RR_256x4_64x2_32x2_64_32.csv\", \n",
    "                     names = [\"t\"])\n",
    "result11[\"c\"] = 1\n",
    "result11.groupby(\"t\").count()"
   ]
  },
  {
   "cell_type": "code",
   "execution_count": 22,
   "metadata": {},
   "outputs": [
    {
     "data": {
      "text/html": [
       "<div>\n",
       "<style scoped>\n",
       "    .dataframe tbody tr th:only-of-type {\n",
       "        vertical-align: middle;\n",
       "    }\n",
       "\n",
       "    .dataframe tbody tr th {\n",
       "        vertical-align: top;\n",
       "    }\n",
       "\n",
       "    .dataframe thead th {\n",
       "        text-align: right;\n",
       "    }\n",
       "</style>\n",
       "<table border=\"1\" class=\"dataframe\">\n",
       "  <thead>\n",
       "    <tr style=\"text-align: right;\">\n",
       "      <th></th>\n",
       "      <th>c</th>\n",
       "    </tr>\n",
       "    <tr>\n",
       "      <th>t</th>\n",
       "      <th></th>\n",
       "    </tr>\n",
       "  </thead>\n",
       "  <tbody>\n",
       "    <tr>\n",
       "      <th>-1</th>\n",
       "      <td>82</td>\n",
       "    </tr>\n",
       "    <tr>\n",
       "      <th>1</th>\n",
       "      <td>18</td>\n",
       "    </tr>\n",
       "  </tbody>\n",
       "</table>\n",
       "</div>"
      ],
      "text/plain": [
       "     c\n",
       "t     \n",
       "-1  82\n",
       " 1  18"
      ]
     },
     "execution_count": 22,
     "metadata": {},
     "output_type": "execute_result"
    }
   ],
   "source": [
    "result12 = pd.read_csv(\"../Game_results/Random_NN_A_100_1589171026100000_RR_256x4_64x2_32x2_64_32.csv\", \n",
    "                     names = [\"t\"])\n",
    "result12[\"c\"] = 1\n",
    "result12.groupby(\"t\").count()"
   ]
  },
  {
   "cell_type": "code",
   "execution_count": 3,
   "metadata": {},
   "outputs": [
    {
     "data": {
      "text/html": [
       "<div>\n",
       "<style scoped>\n",
       "    .dataframe tbody tr th:only-of-type {\n",
       "        vertical-align: middle;\n",
       "    }\n",
       "\n",
       "    .dataframe tbody tr th {\n",
       "        vertical-align: top;\n",
       "    }\n",
       "\n",
       "    .dataframe thead th {\n",
       "        text-align: right;\n",
       "    }\n",
       "</style>\n",
       "<table border=\"1\" class=\"dataframe\">\n",
       "  <thead>\n",
       "    <tr style=\"text-align: right;\">\n",
       "      <th></th>\n",
       "      <th>c</th>\n",
       "    </tr>\n",
       "    <tr>\n",
       "      <th>t</th>\n",
       "      <th></th>\n",
       "    </tr>\n",
       "  </thead>\n",
       "  <tbody>\n",
       "    <tr>\n",
       "      <th>-1</th>\n",
       "      <td>22</td>\n",
       "    </tr>\n",
       "    <tr>\n",
       "      <th>1</th>\n",
       "      <td>78</td>\n",
       "    </tr>\n",
       "  </tbody>\n",
       "</table>\n",
       "</div>"
      ],
      "text/plain": [
       "     c\n",
       "t     \n",
       "-1  22\n",
       " 1  78"
      ]
     },
     "execution_count": 3,
     "metadata": {},
     "output_type": "execute_result"
    }
   ],
   "source": [
    "result13 = pd.read_csv(\"../Game_results/NN_Random_100_1589214635100000_RR_256x4_64x2_32x2_64_32_dropout_.csv\", \n",
    "                     names = [\"t\"])\n",
    "result13[\"c\"] = 1\n",
    "result13.groupby(\"t\").count()"
   ]
  },
  {
   "cell_type": "code",
   "execution_count": 4,
   "metadata": {},
   "outputs": [
    {
     "data": {
      "text/html": [
       "<div>\n",
       "<style scoped>\n",
       "    .dataframe tbody tr th:only-of-type {\n",
       "        vertical-align: middle;\n",
       "    }\n",
       "\n",
       "    .dataframe tbody tr th {\n",
       "        vertical-align: top;\n",
       "    }\n",
       "\n",
       "    .dataframe thead th {\n",
       "        text-align: right;\n",
       "    }\n",
       "</style>\n",
       "<table border=\"1\" class=\"dataframe\">\n",
       "  <thead>\n",
       "    <tr style=\"text-align: right;\">\n",
       "      <th></th>\n",
       "      <th>c</th>\n",
       "    </tr>\n",
       "    <tr>\n",
       "      <th>t</th>\n",
       "      <th></th>\n",
       "    </tr>\n",
       "  </thead>\n",
       "  <tbody>\n",
       "    <tr>\n",
       "      <th>-1</th>\n",
       "      <td>79</td>\n",
       "    </tr>\n",
       "    <tr>\n",
       "      <th>1</th>\n",
       "      <td>21</td>\n",
       "    </tr>\n",
       "  </tbody>\n",
       "</table>\n",
       "</div>"
      ],
      "text/plain": [
       "     c\n",
       "t     \n",
       "-1  79\n",
       " 1  21"
      ]
     },
     "execution_count": 4,
     "metadata": {},
     "output_type": "execute_result"
    }
   ],
   "source": [
    "result14 = pd.read_csv(\"../Game_results/Random_NN_100_1589215369100000_RR_256x4_64x2_32x2_64_32_dropout_.csv\", \n",
    "                     names = [\"t\"])\n",
    "result14[\"c\"] = 1\n",
    "result14.groupby(\"t\").count()"
   ]
  },
  {
   "cell_type": "code",
   "execution_count": null,
   "metadata": {},
   "outputs": [],
   "source": []
  },
  {
   "cell_type": "markdown",
   "metadata": {},
   "source": [
    "## Compare"
   ]
  },
  {
   "cell_type": "code",
   "execution_count": 5,
   "metadata": {},
   "outputs": [
    {
     "data": {
      "text/html": [
       "<div>\n",
       "<style scoped>\n",
       "    .dataframe tbody tr th:only-of-type {\n",
       "        vertical-align: middle;\n",
       "    }\n",
       "\n",
       "    .dataframe tbody tr th {\n",
       "        vertical-align: top;\n",
       "    }\n",
       "\n",
       "    .dataframe thead th {\n",
       "        text-align: right;\n",
       "    }\n",
       "</style>\n",
       "<table border=\"1\" class=\"dataframe\">\n",
       "  <thead>\n",
       "    <tr style=\"text-align: right;\">\n",
       "      <th></th>\n",
       "      <th>c</th>\n",
       "    </tr>\n",
       "    <tr>\n",
       "      <th>t</th>\n",
       "      <th></th>\n",
       "    </tr>\n",
       "  </thead>\n",
       "  <tbody>\n",
       "    <tr>\n",
       "      <th>-1</th>\n",
       "      <td>10</td>\n",
       "    </tr>\n",
       "  </tbody>\n",
       "</table>\n",
       "</div>"
      ],
      "text/plain": [
       "     c\n",
       "t     \n",
       "-1  10"
      ]
     },
     "execution_count": 5,
     "metadata": {},
     "output_type": "execute_result"
    }
   ],
   "source": [
    "resultNM = pd.read_csv(\"../Game_results/NN_MonteCarlo_10_1589220530.csv\", \n",
    "                     names = [\"t\"])\n",
    "resultNM[\"c\"] = 1\n",
    "resultNM.groupby(\"t\").count()"
   ]
  },
  {
   "cell_type": "code",
   "execution_count": 8,
   "metadata": {},
   "outputs": [
    {
     "data": {
      "text/html": [
       "<div>\n",
       "<style scoped>\n",
       "    .dataframe tbody tr th:only-of-type {\n",
       "        vertical-align: middle;\n",
       "    }\n",
       "\n",
       "    .dataframe tbody tr th {\n",
       "        vertical-align: top;\n",
       "    }\n",
       "\n",
       "    .dataframe thead th {\n",
       "        text-align: right;\n",
       "    }\n",
       "</style>\n",
       "<table border=\"1\" class=\"dataframe\">\n",
       "  <thead>\n",
       "    <tr style=\"text-align: right;\">\n",
       "      <th></th>\n",
       "      <th>c</th>\n",
       "    </tr>\n",
       "    <tr>\n",
       "      <th>t</th>\n",
       "      <th></th>\n",
       "    </tr>\n",
       "  </thead>\n",
       "  <tbody>\n",
       "    <tr>\n",
       "      <th>-1</th>\n",
       "      <td>10</td>\n",
       "    </tr>\n",
       "  </tbody>\n",
       "</table>\n",
       "</div>"
      ],
      "text/plain": [
       "     c\n",
       "t     \n",
       "-1  10"
      ]
     },
     "execution_count": 8,
     "metadata": {},
     "output_type": "execute_result"
    }
   ],
   "source": [
    "resultQM = pd.read_csv(\"../Game_results/QL_MonteCarlo_10_1589221208.csv\", \n",
    "                     names = [\"t\"])\n",
    "resultQM[\"c\"] = 1\n",
    "resultQM.groupby(\"t\").count()"
   ]
  },
  {
   "cell_type": "code",
   "execution_count": 6,
   "metadata": {},
   "outputs": [
    {
     "data": {
      "text/html": [
       "<div>\n",
       "<style scoped>\n",
       "    .dataframe tbody tr th:only-of-type {\n",
       "        vertical-align: middle;\n",
       "    }\n",
       "\n",
       "    .dataframe tbody tr th {\n",
       "        vertical-align: top;\n",
       "    }\n",
       "\n",
       "    .dataframe thead th {\n",
       "        text-align: right;\n",
       "    }\n",
       "</style>\n",
       "<table border=\"1\" class=\"dataframe\">\n",
       "  <thead>\n",
       "    <tr style=\"text-align: right;\">\n",
       "      <th></th>\n",
       "      <th>c</th>\n",
       "    </tr>\n",
       "    <tr>\n",
       "      <th>t</th>\n",
       "      <th></th>\n",
       "    </tr>\n",
       "  </thead>\n",
       "  <tbody>\n",
       "    <tr>\n",
       "      <th>-1</th>\n",
       "      <td>10</td>\n",
       "    </tr>\n",
       "    <tr>\n",
       "      <th>1</th>\n",
       "      <td>90</td>\n",
       "    </tr>\n",
       "  </tbody>\n",
       "</table>\n",
       "</div>"
      ],
      "text/plain": [
       "     c\n",
       "t     \n",
       "-1  10\n",
       " 1  90"
      ]
     },
     "execution_count": 6,
     "metadata": {},
     "output_type": "execute_result"
    }
   ],
   "source": [
    "resultNQ = pd.read_csv(\"../Game_results/NN_QL_100_1589220367.csv\", \n",
    "                     names = [\"t\"])\n",
    "resultNQ[\"c\"] = 1\n",
    "resultNQ.groupby(\"t\").count()"
   ]
  },
  {
   "cell_type": "code",
   "execution_count": 7,
   "metadata": {},
   "outputs": [
    {
     "data": {
      "text/html": [
       "<div>\n",
       "<style scoped>\n",
       "    .dataframe tbody tr th:only-of-type {\n",
       "        vertical-align: middle;\n",
       "    }\n",
       "\n",
       "    .dataframe tbody tr th {\n",
       "        vertical-align: top;\n",
       "    }\n",
       "\n",
       "    .dataframe thead th {\n",
       "        text-align: right;\n",
       "    }\n",
       "</style>\n",
       "<table border=\"1\" class=\"dataframe\">\n",
       "  <thead>\n",
       "    <tr style=\"text-align: right;\">\n",
       "      <th></th>\n",
       "      <th>c</th>\n",
       "    </tr>\n",
       "    <tr>\n",
       "      <th>t</th>\n",
       "      <th></th>\n",
       "    </tr>\n",
       "  </thead>\n",
       "  <tbody>\n",
       "    <tr>\n",
       "      <th>-1</th>\n",
       "      <td>87</td>\n",
       "    </tr>\n",
       "    <tr>\n",
       "      <th>1</th>\n",
       "      <td>13</td>\n",
       "    </tr>\n",
       "  </tbody>\n",
       "</table>\n",
       "</div>"
      ],
      "text/plain": [
       "     c\n",
       "t     \n",
       "-1  87\n",
       " 1  13"
      ]
     },
     "execution_count": 7,
     "metadata": {},
     "output_type": "execute_result"
    }
   ],
   "source": [
    "resultQN = pd.read_csv(\"../Game_results/QL_NN_100_1589220367.csv\", \n",
    "                     names = [\"t\"])\n",
    "resultQN[\"c\"] = 1\n",
    "resultQN.groupby(\"t\").count()"
   ]
  },
  {
   "cell_type": "code",
   "execution_count": 9,
   "metadata": {},
   "outputs": [
    {
     "data": {
      "text/html": [
       "<div>\n",
       "<style scoped>\n",
       "    .dataframe tbody tr th:only-of-type {\n",
       "        vertical-align: middle;\n",
       "    }\n",
       "\n",
       "    .dataframe tbody tr th {\n",
       "        vertical-align: top;\n",
       "    }\n",
       "\n",
       "    .dataframe thead th {\n",
       "        text-align: right;\n",
       "    }\n",
       "</style>\n",
       "<table border=\"1\" class=\"dataframe\">\n",
       "  <thead>\n",
       "    <tr style=\"text-align: right;\">\n",
       "      <th></th>\n",
       "      <th>c</th>\n",
       "    </tr>\n",
       "    <tr>\n",
       "      <th>t</th>\n",
       "      <th></th>\n",
       "    </tr>\n",
       "  </thead>\n",
       "  <tbody>\n",
       "    <tr>\n",
       "      <th>-1</th>\n",
       "      <td>90</td>\n",
       "    </tr>\n",
       "    <tr>\n",
       "      <th>1</th>\n",
       "      <td>10</td>\n",
       "    </tr>\n",
       "  </tbody>\n",
       "</table>\n",
       "</div>"
      ],
      "text/plain": [
       "     c\n",
       "t     \n",
       "-1  90\n",
       " 1  10"
      ]
     },
     "execution_count": 9,
     "metadata": {},
     "output_type": "execute_result"
    }
   ],
   "source": [
    "resultRN = pd.read_csv(\"../Game_results/Random_NN_100_1589223491.csv\", \n",
    "                     names = [\"t\"])\n",
    "resultRN[\"c\"] = 1\n",
    "resultRN.groupby(\"t\").count()"
   ]
  },
  {
   "cell_type": "code",
   "execution_count": 10,
   "metadata": {},
   "outputs": [
    {
     "data": {
      "text/html": [
       "<div>\n",
       "<style scoped>\n",
       "    .dataframe tbody tr th:only-of-type {\n",
       "        vertical-align: middle;\n",
       "    }\n",
       "\n",
       "    .dataframe tbody tr th {\n",
       "        vertical-align: top;\n",
       "    }\n",
       "\n",
       "    .dataframe thead th {\n",
       "        text-align: right;\n",
       "    }\n",
       "</style>\n",
       "<table border=\"1\" class=\"dataframe\">\n",
       "  <thead>\n",
       "    <tr style=\"text-align: right;\">\n",
       "      <th></th>\n",
       "      <th>c</th>\n",
       "    </tr>\n",
       "    <tr>\n",
       "      <th>t</th>\n",
       "      <th></th>\n",
       "    </tr>\n",
       "  </thead>\n",
       "  <tbody>\n",
       "    <tr>\n",
       "      <th>-1</th>\n",
       "      <td>9</td>\n",
       "    </tr>\n",
       "    <tr>\n",
       "      <th>1</th>\n",
       "      <td>91</td>\n",
       "    </tr>\n",
       "  </tbody>\n",
       "</table>\n",
       "</div>"
      ],
      "text/plain": [
       "     c\n",
       "t     \n",
       "-1   9\n",
       " 1  91"
      ]
     },
     "execution_count": 10,
     "metadata": {},
     "output_type": "execute_result"
    }
   ],
   "source": [
    "resultNR = pd.read_csv(\"../Game_results/NN_Random_100_1589223491.csv\", \n",
    "                     names = [\"t\"])\n",
    "resultNR[\"c\"] = 1\n",
    "resultNR.groupby(\"t\").count()"
   ]
  },
  {
   "cell_type": "code",
   "execution_count": 11,
   "metadata": {},
   "outputs": [
    {
     "data": {
      "text/html": [
       "<div>\n",
       "<style scoped>\n",
       "    .dataframe tbody tr th:only-of-type {\n",
       "        vertical-align: middle;\n",
       "    }\n",
       "\n",
       "    .dataframe tbody tr th {\n",
       "        vertical-align: top;\n",
       "    }\n",
       "\n",
       "    .dataframe thead th {\n",
       "        text-align: right;\n",
       "    }\n",
       "</style>\n",
       "<table border=\"1\" class=\"dataframe\">\n",
       "  <thead>\n",
       "    <tr style=\"text-align: right;\">\n",
       "      <th></th>\n",
       "      <th>c</th>\n",
       "    </tr>\n",
       "    <tr>\n",
       "      <th>t</th>\n",
       "      <th></th>\n",
       "    </tr>\n",
       "  </thead>\n",
       "  <tbody>\n",
       "    <tr>\n",
       "      <th>-1</th>\n",
       "      <td>46</td>\n",
       "    </tr>\n",
       "    <tr>\n",
       "      <th>0</th>\n",
       "      <td>2</td>\n",
       "    </tr>\n",
       "    <tr>\n",
       "      <th>1</th>\n",
       "      <td>52</td>\n",
       "    </tr>\n",
       "  </tbody>\n",
       "</table>\n",
       "</div>"
      ],
      "text/plain": [
       "     c\n",
       "t     \n",
       "-1  46\n",
       " 0   2\n",
       " 1  52"
      ]
     },
     "execution_count": 11,
     "metadata": {},
     "output_type": "execute_result"
    }
   ],
   "source": [
    "resultRQ = pd.read_csv(\"../Game_results/Random_QL_100_1589223491.csv\", \n",
    "                     names = [\"t\"])\n",
    "resultRQ[\"c\"] = 1\n",
    "resultRQ.groupby(\"t\").count()"
   ]
  },
  {
   "cell_type": "code",
   "execution_count": 12,
   "metadata": {},
   "outputs": [
    {
     "data": {
      "text/html": [
       "<div>\n",
       "<style scoped>\n",
       "    .dataframe tbody tr th:only-of-type {\n",
       "        vertical-align: middle;\n",
       "    }\n",
       "\n",
       "    .dataframe tbody tr th {\n",
       "        vertical-align: top;\n",
       "    }\n",
       "\n",
       "    .dataframe thead th {\n",
       "        text-align: right;\n",
       "    }\n",
       "</style>\n",
       "<table border=\"1\" class=\"dataframe\">\n",
       "  <thead>\n",
       "    <tr style=\"text-align: right;\">\n",
       "      <th></th>\n",
       "      <th>c</th>\n",
       "    </tr>\n",
       "    <tr>\n",
       "      <th>t</th>\n",
       "      <th></th>\n",
       "    </tr>\n",
       "  </thead>\n",
       "  <tbody>\n",
       "    <tr>\n",
       "      <th>-1</th>\n",
       "      <td>48</td>\n",
       "    </tr>\n",
       "    <tr>\n",
       "      <th>0</th>\n",
       "      <td>1</td>\n",
       "    </tr>\n",
       "    <tr>\n",
       "      <th>1</th>\n",
       "      <td>51</td>\n",
       "    </tr>\n",
       "  </tbody>\n",
       "</table>\n",
       "</div>"
      ],
      "text/plain": [
       "     c\n",
       "t     \n",
       "-1  48\n",
       " 0   1\n",
       " 1  51"
      ]
     },
     "execution_count": 12,
     "metadata": {},
     "output_type": "execute_result"
    }
   ],
   "source": [
    "resultQR = pd.read_csv(\"../Game_results/QL_Random_100_1589223491.csv\", \n",
    "                     names = [\"t\"])\n",
    "resultQR[\"c\"] = 1\n",
    "resultQR.groupby(\"t\").count()"
   ]
  },
  {
   "cell_type": "code",
   "execution_count": 13,
   "metadata": {},
   "outputs": [
    {
     "data": {
      "text/html": [
       "<div>\n",
       "<style scoped>\n",
       "    .dataframe tbody tr th:only-of-type {\n",
       "        vertical-align: middle;\n",
       "    }\n",
       "\n",
       "    .dataframe tbody tr th {\n",
       "        vertical-align: top;\n",
       "    }\n",
       "\n",
       "    .dataframe thead th {\n",
       "        text-align: right;\n",
       "    }\n",
       "</style>\n",
       "<table border=\"1\" class=\"dataframe\">\n",
       "  <thead>\n",
       "    <tr style=\"text-align: right;\">\n",
       "      <th></th>\n",
       "      <th>c</th>\n",
       "    </tr>\n",
       "    <tr>\n",
       "      <th>t</th>\n",
       "      <th></th>\n",
       "    </tr>\n",
       "  </thead>\n",
       "  <tbody>\n",
       "    <tr>\n",
       "      <th>-1</th>\n",
       "      <td>10</td>\n",
       "    </tr>\n",
       "  </tbody>\n",
       "</table>\n",
       "</div>"
      ],
      "text/plain": [
       "     c\n",
       "t     \n",
       "-1  10"
      ]
     },
     "execution_count": 13,
     "metadata": {},
     "output_type": "execute_result"
    }
   ],
   "source": [
    "resultRM = pd.read_csv(\"../Game_results/Random_MonteCarlo_10_1589223555.csv\", \n",
    "                     names = [\"t\"])\n",
    "resultRM[\"c\"] = 1\n",
    "resultRM.groupby(\"t\").count()"
   ]
  },
  {
   "cell_type": "code",
   "execution_count": null,
   "metadata": {},
   "outputs": [],
   "source": []
  },
  {
   "cell_type": "code",
   "execution_count": null,
   "metadata": {},
   "outputs": [],
   "source": []
  },
  {
   "cell_type": "code",
   "execution_count": null,
   "metadata": {},
   "outputs": [],
   "source": []
  },
  {
   "cell_type": "code",
   "execution_count": null,
   "metadata": {},
   "outputs": [],
   "source": []
  },
  {
   "cell_type": "code",
   "execution_count": null,
   "metadata": {},
   "outputs": [],
   "source": []
  },
  {
   "cell_type": "code",
   "execution_count": null,
   "metadata": {},
   "outputs": [],
   "source": []
  },
  {
   "cell_type": "code",
   "execution_count": null,
   "metadata": {},
   "outputs": [],
   "source": []
  },
  {
   "cell_type": "code",
   "execution_count": 42,
   "metadata": {
    "scrolled": false
   },
   "outputs": [
    {
     "data": {
      "text/html": [
       "<div>\n",
       "<style scoped>\n",
       "    .dataframe tbody tr th:only-of-type {\n",
       "        vertical-align: middle;\n",
       "    }\n",
       "\n",
       "    .dataframe tbody tr th {\n",
       "        vertical-align: top;\n",
       "    }\n",
       "\n",
       "    .dataframe thead th {\n",
       "        text-align: right;\n",
       "    }\n",
       "</style>\n",
       "<table border=\"1\" class=\"dataframe\">\n",
       "  <thead>\n",
       "    <tr style=\"text-align: right;\">\n",
       "      <th></th>\n",
       "      <th>c</th>\n",
       "    </tr>\n",
       "    <tr>\n",
       "      <th>t</th>\n",
       "      <th></th>\n",
       "    </tr>\n",
       "  </thead>\n",
       "  <tbody>\n",
       "    <tr>\n",
       "      <th>-1</th>\n",
       "      <td>61</td>\n",
       "    </tr>\n",
       "    <tr>\n",
       "      <th>0</th>\n",
       "      <td>1</td>\n",
       "    </tr>\n",
       "    <tr>\n",
       "      <th>1</th>\n",
       "      <td>38</td>\n",
       "    </tr>\n",
       "  </tbody>\n",
       "</table>\n",
       "</div>"
      ],
      "text/plain": [
       "     c\n",
       "t     \n",
       "-1  61\n",
       " 0   1\n",
       " 1  38"
      ]
     },
     "execution_count": 42,
     "metadata": {},
     "output_type": "execute_result"
    }
   ],
   "source": [
    "# Random_NN_A_100_1589146739.csv\n",
    "result.groupby(\"t\").count()"
   ]
  },
  {
   "cell_type": "code",
   "execution_count": 40,
   "metadata": {},
   "outputs": [
    {
     "data": {
      "text/html": [
       "<div>\n",
       "<style scoped>\n",
       "    .dataframe tbody tr th:only-of-type {\n",
       "        vertical-align: middle;\n",
       "    }\n",
       "\n",
       "    .dataframe tbody tr th {\n",
       "        vertical-align: top;\n",
       "    }\n",
       "\n",
       "    .dataframe thead th {\n",
       "        text-align: right;\n",
       "    }\n",
       "</style>\n",
       "<table border=\"1\" class=\"dataframe\">\n",
       "  <thead>\n",
       "    <tr style=\"text-align: right;\">\n",
       "      <th></th>\n",
       "      <th>c</th>\n",
       "    </tr>\n",
       "    <tr>\n",
       "      <th>t</th>\n",
       "      <th></th>\n",
       "    </tr>\n",
       "  </thead>\n",
       "  <tbody>\n",
       "    <tr>\n",
       "      <th>-1</th>\n",
       "      <td>32</td>\n",
       "    </tr>\n",
       "    <tr>\n",
       "      <th>0</th>\n",
       "      <td>1</td>\n",
       "    </tr>\n",
       "    <tr>\n",
       "      <th>1</th>\n",
       "      <td>67</td>\n",
       "    </tr>\n",
       "  </tbody>\n",
       "</table>\n",
       "</div>"
      ],
      "text/plain": [
       "     c\n",
       "t     \n",
       "-1  32\n",
       " 0   1\n",
       " 1  67"
      ]
     },
     "execution_count": 40,
     "metadata": {},
     "output_type": "execute_result"
    }
   ],
   "source": [
    "# NN_A_Random_100_1589146596.csv\n",
    "result.groupby(\"t\").count()"
   ]
  },
  {
   "cell_type": "code",
   "execution_count": 38,
   "metadata": {},
   "outputs": [
    {
     "data": {
      "text/html": [
       "<div>\n",
       "<style scoped>\n",
       "    .dataframe tbody tr th:only-of-type {\n",
       "        vertical-align: middle;\n",
       "    }\n",
       "\n",
       "    .dataframe tbody tr th {\n",
       "        vertical-align: top;\n",
       "    }\n",
       "\n",
       "    .dataframe thead th {\n",
       "        text-align: right;\n",
       "    }\n",
       "</style>\n",
       "<table border=\"1\" class=\"dataframe\">\n",
       "  <thead>\n",
       "    <tr style=\"text-align: right;\">\n",
       "      <th></th>\n",
       "      <th>c</th>\n",
       "    </tr>\n",
       "    <tr>\n",
       "      <th>t</th>\n",
       "      <th></th>\n",
       "    </tr>\n",
       "  </thead>\n",
       "  <tbody>\n",
       "    <tr>\n",
       "      <th>-1</th>\n",
       "      <td>86</td>\n",
       "    </tr>\n",
       "    <tr>\n",
       "      <th>1</th>\n",
       "      <td>14</td>\n",
       "    </tr>\n",
       "  </tbody>\n",
       "</table>\n",
       "</div>"
      ],
      "text/plain": [
       "     c\n",
       "t     \n",
       "-1  86\n",
       " 1  14"
      ]
     },
     "execution_count": 38,
     "metadata": {},
     "output_type": "execute_result"
    }
   ],
   "source": [
    "# Random_NN_B_100_1589146690.csv\n",
    "result.groupby(\"t\").count()"
   ]
  },
  {
   "cell_type": "code",
   "execution_count": 35,
   "metadata": {},
   "outputs": [
    {
     "data": {
      "text/html": [
       "<div>\n",
       "<style scoped>\n",
       "    .dataframe tbody tr th:only-of-type {\n",
       "        vertical-align: middle;\n",
       "    }\n",
       "\n",
       "    .dataframe tbody tr th {\n",
       "        vertical-align: top;\n",
       "    }\n",
       "\n",
       "    .dataframe thead th {\n",
       "        text-align: right;\n",
       "    }\n",
       "</style>\n",
       "<table border=\"1\" class=\"dataframe\">\n",
       "  <thead>\n",
       "    <tr style=\"text-align: right;\">\n",
       "      <th></th>\n",
       "      <th>c</th>\n",
       "    </tr>\n",
       "    <tr>\n",
       "      <th>t</th>\n",
       "      <th></th>\n",
       "    </tr>\n",
       "  </thead>\n",
       "  <tbody>\n",
       "    <tr>\n",
       "      <th>-1</th>\n",
       "      <td>7</td>\n",
       "    </tr>\n",
       "    <tr>\n",
       "      <th>1</th>\n",
       "      <td>93</td>\n",
       "    </tr>\n",
       "  </tbody>\n",
       "</table>\n",
       "</div>"
      ],
      "text/plain": [
       "     c\n",
       "t     \n",
       "-1   7\n",
       " 1  93"
      ]
     },
     "execution_count": 35,
     "metadata": {},
     "output_type": "execute_result"
    }
   ],
   "source": [
    "# NN_B_Random_100_1589146615\n",
    "result.groupby(\"t\").count()"
   ]
  },
  {
   "cell_type": "code",
   "execution_count": null,
   "metadata": {},
   "outputs": [],
   "source": []
  },
  {
   "cell_type": "code",
   "execution_count": null,
   "metadata": {},
   "outputs": [],
   "source": []
  },
  {
   "cell_type": "code",
   "execution_count": null,
   "metadata": {},
   "outputs": [],
   "source": []
  },
  {
   "cell_type": "markdown",
   "metadata": {},
   "source": [
    "# Upload Model"
   ]
  },
  {
   "cell_type": "code",
   "execution_count": null,
   "metadata": {},
   "outputs": [],
   "source": [
    "from keras.models import Sequential, load_model"
   ]
  },
  {
   "cell_type": "code",
   "execution_count": null,
   "metadata": {},
   "outputs": [],
   "source": [
    "load_model(model_path)"
   ]
  },
  {
   "cell_type": "code",
   "execution_count": null,
   "metadata": {},
   "outputs": [],
   "source": []
  },
  {
   "cell_type": "code",
   "execution_count": null,
   "metadata": {},
   "outputs": [],
   "source": []
  },
  {
   "cell_type": "code",
   "execution_count": null,
   "metadata": {},
   "outputs": [],
   "source": []
  },
  {
   "cell_type": "code",
   "execution_count": null,
   "metadata": {},
   "outputs": [],
   "source": []
  },
  {
   "cell_type": "code",
   "execution_count": null,
   "metadata": {},
   "outputs": [],
   "source": []
  }
 ],
 "metadata": {
  "kernelspec": {
   "display_name": "Python 3",
   "language": "python",
   "name": "python3"
  },
  "language_info": {
   "codemirror_mode": {
    "name": "ipython",
    "version": 3
   },
   "file_extension": ".py",
   "mimetype": "text/x-python",
   "name": "python",
   "nbconvert_exporter": "python",
   "pygments_lexer": "ipython3",
   "version": "3.7.3"
  }
 },
 "nbformat": 4,
 "nbformat_minor": 2
}
